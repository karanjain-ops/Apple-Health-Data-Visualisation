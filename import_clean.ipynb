{
 "cells": [
  {
   "cell_type": "markdown",
   "id": "ad8f5f45",
   "metadata": {},
   "source": [
    "# Load Data from apple_health_export/ \n",
    "Originally as XML file, want to convert to csv"
   ]
  },
  {
   "cell_type": "code",
   "execution_count": 3,
   "id": "1908993e",
   "metadata": {},
   "outputs": [],
   "source": [
    "# Load needed packages\n",
    "import pandas as pd\n",
    "import xmltodict"
   ]
  },
  {
   "cell_type": "code",
   "execution_count": 4,
   "id": "5b6fcacc",
   "metadata": {},
   "outputs": [],
   "source": [
    "# use your own directory, this is where I exported my data\n",
    "data_path = 'apple_health_export/export.xml' \n",
    "\n",
    "# read XML file, convert to a dictionary\n",
    "with open(data_path, 'r') as xml_file:\n",
    "    all_data = xmltodict.parse(xml_file.read())"
   ]
  },
  {
   "cell_type": "code",
   "execution_count": 5,
   "id": "4582b8f8",
   "metadata": {},
   "outputs": [
    {
     "data": {
      "text/plain": [
       "odict_keys(['@locale', 'ExportDate', 'Me', 'Record', 'ActivitySummary'])"
      ]
     },
     "execution_count": 5,
     "metadata": {},
     "output_type": "execute_result"
    }
   ],
   "source": [
    "# look at all data available (remember it is in a dictionary)\n",
    "all_data['HealthData'].keys()"
   ]
  },
  {
   "cell_type": "code",
   "execution_count": 6,
   "id": "30edc0ad",
   "metadata": {},
   "outputs": [],
   "source": [
    "# create a records list for overall health data, put into pandas dataframe\n",
    "records_list = all_data['HealthData']['Record']\n",
    "all_records = pd.DataFrame(records_list)"
   ]
  },
  {
   "cell_type": "code",
   "execution_count": 7,
   "id": "aad55516",
   "metadata": {},
   "outputs": [],
   "source": [
    "# activity summary (acts)\n",
    "acts_list = all_data['HealthData']['ActivitySummary']\n",
    "acts_df = pd.DataFrame(acts_list)"
   ]
  },
  {
   "cell_type": "code",
   "execution_count": 8,
   "id": "27076eda",
   "metadata": {},
   "outputs": [
    {
     "data": {
      "text/html": [
       "<div>\n",
       "<style scoped>\n",
       "    .dataframe tbody tr th:only-of-type {\n",
       "        vertical-align: middle;\n",
       "    }\n",
       "\n",
       "    .dataframe tbody tr th {\n",
       "        vertical-align: top;\n",
       "    }\n",
       "\n",
       "    .dataframe thead th {\n",
       "        text-align: right;\n",
       "    }\n",
       "</style>\n",
       "<table border=\"1\" class=\"dataframe\">\n",
       "  <thead>\n",
       "    <tr style=\"text-align: right;\">\n",
       "      <th></th>\n",
       "      <th>@dateComponents</th>\n",
       "      <th>@activeEnergyBurned</th>\n",
       "      <th>@activeEnergyBurnedGoal</th>\n",
       "      <th>@activeEnergyBurnedUnit</th>\n",
       "      <th>@appleMoveTime</th>\n",
       "      <th>@appleMoveTimeGoal</th>\n",
       "      <th>@appleExerciseTime</th>\n",
       "      <th>@appleExerciseTimeGoal</th>\n",
       "      <th>@appleStandHours</th>\n",
       "      <th>@appleStandHoursGoal</th>\n",
       "    </tr>\n",
       "  </thead>\n",
       "  <tbody>\n",
       "    <tr>\n",
       "      <th>0</th>\n",
       "      <td>2022-09-13</td>\n",
       "      <td>313.166</td>\n",
       "      <td>300</td>\n",
       "      <td>kcal</td>\n",
       "      <td>0</td>\n",
       "      <td>0</td>\n",
       "      <td>0</td>\n",
       "      <td>0</td>\n",
       "      <td>0</td>\n",
       "      <td>0</td>\n",
       "    </tr>\n",
       "    <tr>\n",
       "      <th>1</th>\n",
       "      <td>2022-09-14</td>\n",
       "      <td>391.495</td>\n",
       "      <td>300</td>\n",
       "      <td>kcal</td>\n",
       "      <td>0</td>\n",
       "      <td>0</td>\n",
       "      <td>0</td>\n",
       "      <td>0</td>\n",
       "      <td>0</td>\n",
       "      <td>0</td>\n",
       "    </tr>\n",
       "    <tr>\n",
       "      <th>2</th>\n",
       "      <td>2022-09-15</td>\n",
       "      <td>510.161</td>\n",
       "      <td>300</td>\n",
       "      <td>kcal</td>\n",
       "      <td>0</td>\n",
       "      <td>0</td>\n",
       "      <td>0</td>\n",
       "      <td>0</td>\n",
       "      <td>0</td>\n",
       "      <td>0</td>\n",
       "    </tr>\n",
       "    <tr>\n",
       "      <th>3</th>\n",
       "      <td>2022-09-16</td>\n",
       "      <td>360.928</td>\n",
       "      <td>300</td>\n",
       "      <td>kcal</td>\n",
       "      <td>0</td>\n",
       "      <td>0</td>\n",
       "      <td>0</td>\n",
       "      <td>0</td>\n",
       "      <td>0</td>\n",
       "      <td>0</td>\n",
       "    </tr>\n",
       "    <tr>\n",
       "      <th>4</th>\n",
       "      <td>2022-09-17</td>\n",
       "      <td>362.137</td>\n",
       "      <td>300</td>\n",
       "      <td>kcal</td>\n",
       "      <td>0</td>\n",
       "      <td>0</td>\n",
       "      <td>0</td>\n",
       "      <td>0</td>\n",
       "      <td>0</td>\n",
       "      <td>0</td>\n",
       "    </tr>\n",
       "  </tbody>\n",
       "</table>\n",
       "</div>"
      ],
      "text/plain": [
       "  @dateComponents @activeEnergyBurned @activeEnergyBurnedGoal  \\\n",
       "0      2022-09-13             313.166                     300   \n",
       "1      2022-09-14             391.495                     300   \n",
       "2      2022-09-15             510.161                     300   \n",
       "3      2022-09-16             360.928                     300   \n",
       "4      2022-09-17             362.137                     300   \n",
       "\n",
       "  @activeEnergyBurnedUnit @appleMoveTime @appleMoveTimeGoal  \\\n",
       "0                    kcal              0                  0   \n",
       "1                    kcal              0                  0   \n",
       "2                    kcal              0                  0   \n",
       "3                    kcal              0                  0   \n",
       "4                    kcal              0                  0   \n",
       "\n",
       "  @appleExerciseTime @appleExerciseTimeGoal @appleStandHours  \\\n",
       "0                  0                      0                0   \n",
       "1                  0                      0                0   \n",
       "2                  0                      0                0   \n",
       "3                  0                      0                0   \n",
       "4                  0                      0                0   \n",
       "\n",
       "  @appleStandHoursGoal  \n",
       "0                    0  \n",
       "1                    0  \n",
       "2                    0  \n",
       "3                    0  \n",
       "4                    0  "
      ]
     },
     "execution_count": 8,
     "metadata": {},
     "output_type": "execute_result"
    }
   ],
   "source": [
    "# glimpse at data\n",
    "acts_df.head()"
   ]
  },
  {
   "attachments": {},
   "cell_type": "markdown",
   "id": "f7e3055a",
   "metadata": {},
   "source": [
    "# Now that data is imported, We need to clean it."
   ]
  },
  {
   "cell_type": "code",
   "execution_count": 9,
   "id": "670c90a3",
   "metadata": {},
   "outputs": [],
   "source": [
    "## Cleaning \n",
    "\n",
    "# remove special characters from column names \n",
    "acts_df.columns = acts_df.columns.str.replace('@', '')\n",
    "\n",
    "# convert date column to date format\n",
    "acts_df['dateComponents'] = pd.to_datetime(acts_df['dateComponents'])\n",
    "\n",
    "# make sure dates are only within range from 07/2021-recent (3/2023),\n",
    "acts_df = acts_df[(acts_df['dateComponents'] > '2021-07-30') & (acts_df['dateComponents'] <= '2023-03-25')]"
   ]
  },
  {
   "cell_type": "code",
   "execution_count": 10,
   "id": "cbb54b75",
   "metadata": {},
   "outputs": [
    {
     "data": {
      "text/html": [
       "<div>\n",
       "<style scoped>\n",
       "    .dataframe tbody tr th:only-of-type {\n",
       "        vertical-align: middle;\n",
       "    }\n",
       "\n",
       "    .dataframe tbody tr th {\n",
       "        vertical-align: top;\n",
       "    }\n",
       "\n",
       "    .dataframe thead th {\n",
       "        text-align: right;\n",
       "    }\n",
       "</style>\n",
       "<table border=\"1\" class=\"dataframe\">\n",
       "  <thead>\n",
       "    <tr style=\"text-align: right;\">\n",
       "      <th></th>\n",
       "      <th>dateComponents</th>\n",
       "      <th>activeEnergyBurned</th>\n",
       "      <th>activeEnergyBurnedGoal</th>\n",
       "      <th>activeEnergyBurnedUnit</th>\n",
       "      <th>appleMoveTime</th>\n",
       "      <th>appleMoveTimeGoal</th>\n",
       "      <th>appleExerciseTime</th>\n",
       "      <th>appleExerciseTimeGoal</th>\n",
       "      <th>appleStandHours</th>\n",
       "      <th>appleStandHoursGoal</th>\n",
       "    </tr>\n",
       "  </thead>\n",
       "  <tbody>\n",
       "    <tr>\n",
       "      <th>0</th>\n",
       "      <td>2022-09-13</td>\n",
       "      <td>313.166</td>\n",
       "      <td>300</td>\n",
       "      <td>kcal</td>\n",
       "      <td>0</td>\n",
       "      <td>0</td>\n",
       "      <td>0</td>\n",
       "      <td>0</td>\n",
       "      <td>0</td>\n",
       "      <td>0</td>\n",
       "    </tr>\n",
       "    <tr>\n",
       "      <th>1</th>\n",
       "      <td>2022-09-14</td>\n",
       "      <td>391.495</td>\n",
       "      <td>300</td>\n",
       "      <td>kcal</td>\n",
       "      <td>0</td>\n",
       "      <td>0</td>\n",
       "      <td>0</td>\n",
       "      <td>0</td>\n",
       "      <td>0</td>\n",
       "      <td>0</td>\n",
       "    </tr>\n",
       "    <tr>\n",
       "      <th>2</th>\n",
       "      <td>2022-09-15</td>\n",
       "      <td>510.161</td>\n",
       "      <td>300</td>\n",
       "      <td>kcal</td>\n",
       "      <td>0</td>\n",
       "      <td>0</td>\n",
       "      <td>0</td>\n",
       "      <td>0</td>\n",
       "      <td>0</td>\n",
       "      <td>0</td>\n",
       "    </tr>\n",
       "    <tr>\n",
       "      <th>3</th>\n",
       "      <td>2022-09-16</td>\n",
       "      <td>360.928</td>\n",
       "      <td>300</td>\n",
       "      <td>kcal</td>\n",
       "      <td>0</td>\n",
       "      <td>0</td>\n",
       "      <td>0</td>\n",
       "      <td>0</td>\n",
       "      <td>0</td>\n",
       "      <td>0</td>\n",
       "    </tr>\n",
       "    <tr>\n",
       "      <th>4</th>\n",
       "      <td>2022-09-17</td>\n",
       "      <td>362.137</td>\n",
       "      <td>300</td>\n",
       "      <td>kcal</td>\n",
       "      <td>0</td>\n",
       "      <td>0</td>\n",
       "      <td>0</td>\n",
       "      <td>0</td>\n",
       "      <td>0</td>\n",
       "      <td>0</td>\n",
       "    </tr>\n",
       "  </tbody>\n",
       "</table>\n",
       "</div>"
      ],
      "text/plain": [
       "  dateComponents activeEnergyBurned activeEnergyBurnedGoal  \\\n",
       "0     2022-09-13            313.166                    300   \n",
       "1     2022-09-14            391.495                    300   \n",
       "2     2022-09-15            510.161                    300   \n",
       "3     2022-09-16            360.928                    300   \n",
       "4     2022-09-17            362.137                    300   \n",
       "\n",
       "  activeEnergyBurnedUnit appleMoveTime appleMoveTimeGoal appleExerciseTime  \\\n",
       "0                   kcal             0                 0                 0   \n",
       "1                   kcal             0                 0                 0   \n",
       "2                   kcal             0                 0                 0   \n",
       "3                   kcal             0                 0                 0   \n",
       "4                   kcal             0                 0                 0   \n",
       "\n",
       "  appleExerciseTimeGoal appleStandHours appleStandHoursGoal  \n",
       "0                     0               0                   0  \n",
       "1                     0               0                   0  \n",
       "2                     0               0                   0  \n",
       "3                     0               0                   0  \n",
       "4                     0               0                   0  "
      ]
     },
     "execution_count": 10,
     "metadata": {},
     "output_type": "execute_result"
    }
   ],
   "source": [
    "acts_df.head()"
   ]
  },
  {
   "cell_type": "markdown",
   "id": "4c980655",
   "metadata": {},
   "source": [
    "Now that dates and columns are done, lets look at data types"
   ]
  },
  {
   "cell_type": "code",
   "execution_count": 11,
   "id": "a1fe8b64",
   "metadata": {},
   "outputs": [
    {
     "data": {
      "text/plain": [
       "dateComponents            datetime64[ns]\n",
       "activeEnergyBurned                object\n",
       "activeEnergyBurnedGoal            object\n",
       "activeEnergyBurnedUnit            object\n",
       "appleMoveTime                     object\n",
       "appleMoveTimeGoal                 object\n",
       "appleExerciseTime                 object\n",
       "appleExerciseTimeGoal             object\n",
       "appleStandHours                   object\n",
       "appleStandHoursGoal               object\n",
       "dtype: object"
      ]
     },
     "execution_count": 11,
     "metadata": {},
     "output_type": "execute_result"
    }
   ],
   "source": [
    "acts_df.dtypes"
   ]
  },
  {
   "cell_type": "code",
   "execution_count": 12,
   "id": "075485bf",
   "metadata": {},
   "outputs": [],
   "source": [
    "# convert the rest of the columns to integers (except for Unit)\n",
    "cols = acts_df.columns\n",
    "acts_df[cols[1:3]] = acts_df[cols[1:3]].apply(pd.to_numeric, errors='coerce')\n",
    "acts_df[cols[4:]] = acts_df[cols[4:]].apply(pd.to_numeric, errors='coerce')\n",
    "\n",
    "# round active energy so it is consistent\n",
    "acts_df = acts_df.round()"
   ]
  },
  {
   "cell_type": "markdown",
   "id": "781447ad",
   "metadata": {},
   "source": [
    "# For more analyses and visualizations, I will also clean the workouts and put into a dataframe"
   ]
  },
  {
   "cell_type": "code",
   "execution_count": 13,
   "id": "12d947cd",
   "metadata": {},
   "outputs": [],
   "source": [
    "# remove special characters from column names \n",
    "all_records.columns = all_records.columns.str.replace('@', '')"
   ]
  },
  {
   "cell_type": "code",
   "execution_count": 14,
   "id": "1a336a82",
   "metadata": {},
   "outputs": [
    {
     "data": {
      "text/plain": [
       "array(['HKQuantityTypeIdentifierHeight',\n",
       "       'HKQuantityTypeIdentifierBodyMass',\n",
       "       'HKQuantityTypeIdentifierHeartRate',\n",
       "       'HKQuantityTypeIdentifierRespiratoryRate',\n",
       "       'HKQuantityTypeIdentifierStepCount',\n",
       "       'HKQuantityTypeIdentifierDistanceWalkingRunning',\n",
       "       'HKQuantityTypeIdentifierBasalEnergyBurned',\n",
       "       'HKQuantityTypeIdentifierActiveEnergyBurned',\n",
       "       'HKQuantityTypeIdentifierFlightsClimbed',\n",
       "       'HKQuantityTypeIdentifierHeadphoneAudioExposure',\n",
       "       'HKQuantityTypeIdentifierWalkingDoubleSupportPercentage',\n",
       "       'HKQuantityTypeIdentifierWalkingSpeed',\n",
       "       'HKQuantityTypeIdentifierWalkingStepLength',\n",
       "       'HKQuantityTypeIdentifierWalkingAsymmetryPercentage',\n",
       "       'HKDataTypeSleepDurationGoal',\n",
       "       'HKQuantityTypeIdentifierAppleWalkingSteadiness',\n",
       "       'HKCategoryTypeIdentifierSleepAnalysis',\n",
       "       'HKCategoryTypeIdentifierHeadphoneAudioExposureEvent'],\n",
       "      dtype=object)"
      ]
     },
     "execution_count": 14,
     "metadata": {},
     "output_type": "execute_result"
    }
   ],
   "source": [
    "# column labels\n",
    "all_records['type'].unique()"
   ]
  },
  {
   "cell_type": "markdown",
   "id": "05538edc",
   "metadata": {},
   "source": [
    "# Now that data is consistent, will write to csv and use from here on out"
   ]
  },
  {
   "cell_type": "code",
   "execution_count": 15,
   "id": "38038029",
   "metadata": {},
   "outputs": [],
   "source": [
    "# activity summary\n",
    "acts_df.to_csv(\"data/activitysummary.csv\", index=False)"
   ]
  },
  {
   "cell_type": "code",
   "execution_count": 16,
   "id": "d2bf7443",
   "metadata": {},
   "outputs": [],
   "source": [
    "# all records\n",
    "all_records.to_csv(\"apple_health_export/all_records.csv\")"
   ]
  }
 ],
 "metadata": {
  "kernelspec": {
   "display_name": "base",
   "language": "python",
   "name": "python3"
  },
  "language_info": {
   "codemirror_mode": {
    "name": "ipython",
    "version": 3
   },
   "file_extension": ".py",
   "mimetype": "text/x-python",
   "name": "python",
   "nbconvert_exporter": "python",
   "pygments_lexer": "ipython3",
   "version": "3.8.8"
  },
  "vscode": {
   "interpreter": {
    "hash": "3174ab881349d02230d0fd206fa4f068817145ae50885b59998c8fcf01d6fd57"
   }
  }
 },
 "nbformat": 4,
 "nbformat_minor": 5
}
